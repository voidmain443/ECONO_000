{
 "cells": [
  {
   "cell_type": "markdown",
   "id": "772f91b0",
   "metadata": {},
   "source": [
    "## 3주차: 똑똑한 프로그램 만들기 (조건문 If)\n",
    "\n",
    "**강의 개요:**\n",
    "\n",
    "지난주에는 여러 데이터를 묶어서 관리하는 리스트(`list`)와 딕셔너리(`dict`)에 대해 배웠습니다. 이를 통해 우리는 여러 국가의 GDP, 분기별 매출액, 포트폴리오 구성 등 다양한 정보를 구조화하여 저장할 수 있게 되었죠.\n",
    "\n",
    "하지만 단순히 데이터를 저장하는 것만으로는 부족합니다. 우리는 종종 이 데이터들을 **분석하고, 특정 조건에 따라 판단**을 내려야 합니다. 예를 들어, '이 국가의 경제 성장률이 3% 이상인가?', '저 기업의 부채 비율은 안전한 수준인가?', '포트폴리오에 특정 위험 자산이 포함되어 있는가?' 와 같은 질문에 답해야 하죠.\n",
    "\n",
    "이번 주에는 바로 이러한 **조건에 따른 판단**을 가능하게 하는 **조건문(Conditional Statements)**, 그중에서도 `if`, `elif`, `else` 구문을 배웁니다. 조건문을 통해 우리는 프로그램이 주어진 상황에 맞춰 다른 경로로 실행되도록 제어할 수 있으며, 이는 데이터를 분석하고 의사결정을 내리는 데 필수적인 기능입니다. 지난주에 배운 리스트와 딕셔너리에 담긴 데이터를 조건문을 이용해 어떻게 분석할 수 있는지 중점적으로 살펴보겠습니다.\n",
    "\n",
    "**이번 시간 학습 목표:**\n",
    "\n",
    "1.  조건문이 왜 필요한지 경제/회계 분석 맥락에서 이해합니다.\n",
    "2.  `if`, `elif`, `else` 문의 구조를 이해하고 올바르게 작성할 수 있습니다. (특히 **들여쓰기**의 중요성!)\n",
    "3.  **비교 연산자** (`==`, `!=`, `>`, `<`, `>=`, `<=`)를 사용하여 리스트/딕셔너리 내의 값이나 변수 값을 비교하는 조건식을 만들 수 있습니다.\n",
    "4.  **논리 연산자** (`and`, `or`, `not`)를 사용하여 여러 조건을 결합하는 방법을 익힙니다.\n",
    "5.  `in` 연산자를 사용하여 특정 요소가 리스트나 딕셔너리 키에 존재하는지 확인할 수 있습니다.\n",
    "6.  조건문을 활용하여 리스트나 딕셔너리에 저장된 경제/회계 데이터를 분석하고, 특정 조건에 따라 메시지를 출력하거나 값을 분류하는 코드를 작성할 수 있습니다.\n",
    "\n",
    "---\n",
    "\n",
    "## 1. 조건문이란? : 상황에 따른 판단의 필요성\n",
    "\n",
    "우리가 지난주에 만든 리스트나 딕셔너리를 생각해 봅시다."
   ]
  },
  {
   "cell_type": "code",
   "execution_count": 1,
   "id": "3b5a99eb",
   "metadata": {},
   "outputs": [],
   "source": [
    "# 지난주 예시 데이터 (복습)\n",
    "gdp_growth_rates = [0.5, 4.1, 2.6, 1.4, 2.2] # 연도별 성장률 (%)\n",
    "financial_info = {\n",
    "    \"회사명\": \"가나다 기업\",\n",
    "    \"매출액(억 원)\": 850,\n",
    "    \"영업이익(억 원)\": 120.5,\n",
    "    \"당기순이익(억 원)\": 85.8,\n",
    "    \"부채비율(%)\": 75.3\n",
    "}"
   ]
  },
  {
   "cell_type": "markdown",
   "id": "f9632954",
   "metadata": {},
   "source": [
    "이 데이터들을 가지고 우리는 무엇을 할 수 있을까요?\n",
    "\n",
    "* \"첫 해(2020년) 성장률은 0보다 컸는가?\" (긍정적 성장 여부 판단)\n",
    "* \"이 기업의 영업이익은 100억 원 이상인가?\" (수익성 목표 달성 여부 판단)\n",
    "* \"부채비율이 100% 미만인가?\" (재무 건전성 판단)\n",
    "\n",
    "이런 질문들에 답하려면 특정 **조건**을 확인하고, 그 결과가 **참(True)** 인지 **거짓(False)** 인지에 따라 다른 행동을 해야 합니다. 이것이 바로 **조건문**이 필요한 이유입니다. 조건문은 프로그램의 실행 흐름을 **분기(Branching)** 시켜, 특정 조건이 만족될 때만 특정 코드 블록을 실행하도록 만듭니다.\n",
    "\n",
    "---\n",
    "\n",
    "## 2. 첫 번째 분기점: `if` 문과 비교 연산자\n",
    "\n",
    "가장 기본적인 조건문은 `if` 문입니다. `if` 뒤에 오는 조건식이 `True`일 경우에만, 그 아래 들여쓰기 된 코드 블록이 실행됩니다.\n",
    "\n",
    "**기본 구조 복습:**"
   ]
  },
  {
   "cell_type": "code",
   "execution_count": 4,
   "id": "64bb7d7a",
   "metadata": {},
   "outputs": [],
   "source": [
    "# if 조건식:\n",
    "    # 조건식이 True일 때 실행될 코드 블록 (★반드시 들여쓰기★)\n",
    "    # 예: print(\"조건 만족!\")\n",
    "# if 블록 바깥의 코드"
   ]
  },
  {
   "cell_type": "markdown",
   "id": "4adebfbd",
   "metadata": {},
   "source": [
    "**조건식 만들기: 비교 연산자**\n",
    "\n",
    "조건식은 주로 값을 비교하여 `True` 또는 `False`의 결과를 얻습니다. 이때 비교 연산자를 사용합니다.\n",
    "\n",
    "| 연산자 | 의미           | 예시 (`a=10`, `b=5`) |\n",
    "| :----- | :------------- | :------------------- |\n",
    "| `==`   | 같다           | `a == 10` (True)     |\n",
    "| `!=`   | 다르다         | `a != b` (True)      |\n",
    "| `>`    | 크다           | `a > b` (True)       |\n",
    "| `<`    | 작다           | `b < a` (True)       |\n",
    "| `>=`   | 크거나 같다    | `a >= 10` (True)     |\n",
    "| `<=`   | 작거나 같다    | `b <= 10` (True)     |\n",
    "\n",
    "**주의:** 할당 연산자 `=` 와 비교 연산자 `==` 를 절대 혼동하지 마세요!\n",
    "\n",
    "**`if` 문 예제 (리스트/딕셔너리 활용):**\n",
    "\n",
    "**예제 1: 첫 해 GDP 성장률 확인**"
   ]
  },
  {
   "cell_type": "code",
   "execution_count": 5,
   "id": "7b76c1e2",
   "metadata": {},
   "outputs": [
    {
     "name": "stdout",
     "output_type": "stream",
     "text": [
      "첫 해 성장률: 0.5%\n",
      "첫 해에 경제가 성장했습니다.\n"
     ]
    }
   ],
   "source": [
    "gdp_growth_rates = [0.5, 4.1, 2.6, 1.4, 2.2] # 연도별 성장률 (%)\n",
    "first_year_growth = gdp_growth_rates[0] # 첫 번째 요소 접근 (인덱스 0)\n",
    "\n",
    "print(f\"첫 해 성장률: {first_year_growth}%\")\n",
    "\n",
    "if first_year_growth > 0:\n",
    "    print(\"첫 해에 경제가 성장했습니다.\")\n",
    "\n",
    "if first_year_growth > 3.0:\n",
    "    print(\"첫 해 성장률이 3%를 넘었습니다.\") # 이 조건은 False이므로 출력 안됨"
   ]
  },
  {
   "cell_type": "markdown",
   "id": "e070b75e",
   "metadata": {},
   "source": [
    "**예제 2: 특정 기업의 매출액 확인**"
   ]
  },
  {
   "cell_type": "code",
   "execution_count": 6,
   "id": "93d5e527",
   "metadata": {},
   "outputs": [
    {
     "name": "stdout",
     "output_type": "stream",
     "text": [
      "가나다 기업의 매출액: 850억 원\n",
      "매출이 발생했습니다.\n"
     ]
    }
   ],
   "source": [
    "financial_info = {\n",
    "    \"회사명\": \"가나다 기업\",\n",
    "    \"매출액(억 원)\": 850,\n",
    "    \"영업이익(억 원)\": 120.5,\n",
    "    \"부채비율(%)\": 75.3\n",
    "}\n",
    "company_revenue = financial_info[\"매출액(억 원)\"] # 딕셔너리 값 접근\n",
    "\n",
    "print(f\"{financial_info['회사명']}의 매출액: {company_revenue}억 원\")\n",
    "\n",
    "if company_revenue >= 1000:\n",
    "    print(\"매출액 1000억 원 이상 달성!\") # 조건 False, 출력 안됨\n",
    "\n",
    "if company_revenue > 0:\n",
    "    print(\"매출이 발생했습니다.\") # 조건 True, 출력됨"
   ]
  },
  {
   "cell_type": "markdown",
   "id": "a939aaef",
   "metadata": {},
   "source": [
    "**★ 들여쓰기의 중요성 ★**\n",
    "\n",
    "파이썬에서 들여쓰기는 코드의 논리적 구조를 나타내는 문법 그 자체입니다. `if` 다음에 오는 코드 블록은 반드시 **일관된 간격(보통 스페이스 4칸)** 으로 들여쓰기 되어야 합니다. 그렇지 않으면 `IndentationError`가 발생합니다."
   ]
  },
  {
   "cell_type": "code",
   "execution_count": 7,
   "id": "d1bf2ccd",
   "metadata": {},
   "outputs": [],
   "source": [
    "# 잘못된 예시 (IndentationError 발생)\n",
    "# value = 10\n",
    "# if value > 5:\n",
    "# print(\"값이 5보다 큽니다.\") # 들여쓰기 없음!"
   ]
  },
  {
   "cell_type": "markdown",
   "id": "b76b0c3d",
   "metadata": {},
   "source": [
    "---\n",
    "\n",
    "## 3. 아니면? : `else` 문\n",
    "\n",
    "`if` 조건이 `False`일 때 실행할 코드를 지정하려면 `else`를 사용합니다.\n",
    "\n",
    "**기본 구조 복습:**"
   ]
  },
  {
   "cell_type": "code",
   "execution_count": 10,
   "id": "c3db51b8",
   "metadata": {},
   "outputs": [],
   "source": [
    "#if 조건식:\n",
    "    # 조건식이 True일 때 실행될 코드\n",
    "#else:\n",
    "    # 조건식이 False일 때 실행될 코드"
   ]
  },
  {
   "cell_type": "markdown",
   "id": "acd4f178",
   "metadata": {},
   "source": [
    "**`if-else` 문 예제:**\n",
    "\n",
    "**예제 1: 경제 성장 여부 판단 (0% 기준)**"
   ]
  },
  {
   "cell_type": "code",
   "execution_count": 11,
   "id": "3f0c4e97",
   "metadata": {},
   "outputs": [
    {
     "name": "stdout",
     "output_type": "stream",
     "text": [
      "첫 해 성장률: -0.2%\n",
      "첫 해에 경제가 성장하지 못했거나 후퇴했습니다.\n"
     ]
    }
   ],
   "source": [
    "gdp_growth_rates = [-0.2, 4.1, 2.6, 1.4, 2.2] # 첫 해 성장률 음수로 변경\n",
    "first_year_growth = gdp_growth_rates[0]\n",
    "\n",
    "print(f\"첫 해 성장률: {first_year_growth}%\")\n",
    "\n",
    "if first_year_growth > 0:\n",
    "    print(\"첫 해에 경제가 성장했습니다.\")\n",
    "else: # first_year_growth <= 0 인 경우\n",
    "    print(\"첫 해에 경제가 성장하지 못했거나 후퇴했습니다.\")"
   ]
  },
  {
   "cell_type": "markdown",
   "id": "75d52cff",
   "metadata": {},
   "source": [
    "**예제 2: 특정 통화 포함 여부 확인 (`in` 연산자 소개)**\n",
    "\n",
    "리스트나 딕셔너리(의 키) 안에 특정 요소가 있는지 확인하고 싶을 때 `in` 연산자를 사용할 수 있습니다. 결과는 `True` 또는 `False` 입니다. (`not in` 은 포함되어 있지 않을 때 `True`)"
   ]
  },
  {
   "cell_type": "code",
   "execution_count": 12,
   "id": "f4fe3167",
   "metadata": {},
   "outputs": [
    {
     "name": "stdout",
     "output_type": "stream",
     "text": [
      "분석 대상 통화: ['USD', 'EUR', 'JPY', 'CNY']\n",
      "확인할 통화: KRW\n",
      "KRW는(은) 주요 분석 대상 통화가 아닙니다.\n",
      "USA의 GDP 정보가 있습니다: 27.0 조 달러\n"
     ]
    }
   ],
   "source": [
    "currency_list = [\"USD\", \"EUR\", \"JPY\", \"CNY\"]\n",
    "my_currency = \"KRW\"\n",
    "\n",
    "print(f\"분석 대상 통화: {currency_list}\")\n",
    "print(f\"확인할 통화: {my_currency}\")\n",
    "\n",
    "if my_currency in currency_list: # 'KRW'가 currency_list 안에 있는가? (False)\n",
    "    print(f\"{my_currency}는(은) 주요 분석 대상 통화입니다.\")\n",
    "else:\n",
    "    print(f\"{my_currency}는(은) 주요 분석 대상 통화가 아닙니다.\")\n",
    "\n",
    "# 딕셔너리 키 확인\n",
    "country_gdp_dict = {\"Korea\": 1.8, \"USA\": 27.0}\n",
    "target_country = \"USA\"\n",
    "\n",
    "if target_country in country_gdp_dict: # 'USA' 키가 딕셔너리에 있는가? (True)\n",
    "     print(f\"{target_country}의 GDP 정보가 있습니다: {country_gdp_dict[target_country]} 조 달러\")\n",
    "else:\n",
    "     print(f\"{target_country}의 GDP 정보가 없습니다.\")"
   ]
  },
  {
   "cell_type": "markdown",
   "id": "a1e1424f",
   "metadata": {},
   "source": [
    "---\n",
    "\n",
    "## 4. 여러 갈래 길: `elif` 문\n",
    "\n",
    "여러 조건을 순서대로 검사하여, 처음으로 `True`가 되는 조건의 코드 블록만 실행하고 싶을 때 `elif` (else if)를 사용합니다.\n",
    "\n",
    "**기본 구조 복습:**"
   ]
  },
  {
   "cell_type": "markdown",
   "id": "0f6172c7",
   "metadata": {},
   "source": [
    "```\n",
    "if 조건식1:\n",
    "    # 조건식1 True 시 실행\n",
    "elif 조건식2:\n",
    "    # 조건식1 False, 조건식2 True 시 실행\n",
    "# ... (elif 계속 추가 가능)\n",
    "else:\n",
    "    # 모든 if/elif 조건이 False일 때 실행 (선택 사항)\n",
    "```"
   ]
  },
  {
   "cell_type": "markdown",
   "id": "d0718d83",
   "metadata": {},
   "source": [
    "**`if-elif-else` 문 예제:**\n",
    "\n",
    "**예제 1: GDP 성장률 구간 분류 (리스트 요소 사용)**"
   ]
  },
  {
   "cell_type": "code",
   "execution_count": 13,
   "id": "cd02913d",
   "metadata": {},
   "outputs": [
    {
     "name": "stdout",
     "output_type": "stream",
     "text": [
      "검사 대상 성장률: -0.8%\n",
      "분류 결과: '저성장' 국면\n"
     ]
    }
   ],
   "source": [
    "gdp_growth_rates = [0.5, 4.1, -0.8, 1.4, 2.2]\n",
    "# 검사할 성장률 (예: 2022년 데이터, 인덱스 2)\n",
    "growth_rate_to_check = gdp_growth_rates[2]\n",
    "\n",
    "print(f\"검사 대상 성장률: {growth_rate_to_check}%\")\n",
    "\n",
    "if growth_rate_to_check >= 3.0:\n",
    "    category = \"고성장\"\n",
    "elif growth_rate_to_check >= 1.0:\n",
    "    category = \"중성장\"\n",
    "elif growth_rate_to_check > -1.0: # -1.0 초과 1.0 미만\n",
    "    category = \"저성장\"\n",
    "else: # -1.0 이하\n",
    "    category = \"경기 후퇴\"\n",
    "\n",
    "print(f\"분류 결과: '{category}' 국면\")"
   ]
  },
  {
   "cell_type": "markdown",
   "id": "d8467d0c",
   "metadata": {},
   "source": [
    "**예제 2: 기업 부채비율 기반 재무 안정성 평가 (딕셔너리 값 사용)**"
   ]
  },
  {
   "cell_type": "code",
   "execution_count": 14,
   "id": "240d6944",
   "metadata": {},
   "outputs": [
    {
     "name": "stdout",
     "output_type": "stream",
     "text": [
      "다다다 상사의 부채비율: 185.2%\n",
      "재무 안정성 평가: 보통 (주의 필요)\n"
     ]
    }
   ],
   "source": [
    "financial_info = {\n",
    "    \"회사명\": \"다다다 상사\",\n",
    "    \"매출액(억 원)\": 620,\n",
    "    \"영업이익(억 원)\": 45.5,\n",
    "    \"부채비율(%)\": 185.2 # 부채 비율이 다소 높음\n",
    "}\n",
    "debt_ratio = financial_info[\"부채비율(%)\"]\n",
    "\n",
    "print(f\"{financial_info['회사명']}의 부채비율: {debt_ratio}%\")\n",
    "\n",
    "if debt_ratio < 100.0:\n",
    "    stability = \"안정적\"\n",
    "elif debt_ratio < 200.0: # 100.0 이상 200.0 미만\n",
    "    stability = \"보통 (주의 필요)\"\n",
    "else: # 200.0 이상\n",
    "    stability = \"위험 수준\"\n",
    "\n",
    "print(f\"재무 안정성 평가: {stability}\")"
   ]
  },
  {
   "cell_type": "markdown",
   "id": "b4db7668",
   "metadata": {},
   "source": [
    "---\n",
    "\n",
    "### [실습 1] `if, elif, else`, 비교 연산자, `in` 연습\n",
    "\n",
    "1.  **리스트 요소 값 확인:** `stock_prices = [80000, 75000, 78000, 82000, 79000]` 리스트가 주어졌을 때, **마지막 날 (인덱스 -1)** 의 주가가 80000원 이상이면 \"매도 고려\", 그렇지 않으면 \"보유 또는 매수 고려\"를 출력하세요.\n",
    "2.  **딕셔너리 값 분류:** `portfolio = {\"주식\": 0.5, \"채권\": 0.3, \"현금\": 0.2}` 딕셔너리가 주어졌을 때 (값은 비중을 의미), \"주식\"의 비중이 0.6 이상이면 \"공격적 포트폴리오\", 0.4 이상이면 \"중립적 포트폴리오\", 그 외에는 \"안정적 포트폴리오\"를 출력하세요.\n",
    "3.  **자산 포함 여부 확인:** 위 `portfolio` 딕셔너리에 \"금\" 이라는 키가 있는지 `in` 연산자와 `if-else` 문을 사용하여 확인하고, 있으면 \"포트폴리오에 금이 포함되어 있습니다.\", 없으면 \"포트폴리오에 금이 포함되어 있지 않습니다.\" 를 출력하세요.\n",
    "\n",
    "---"
   ]
  },
  {
   "cell_type": "code",
   "execution_count": 16,
   "id": "6d25d96d",
   "metadata": {},
   "outputs": [
    {
     "name": "stdout",
     "output_type": "stream",
     "text": [
      "마지막 날 주가: 79000\n",
      "보유 또는 매수 고려\n"
     ]
    }
   ],
   "source": [
    "# 실습 1-1: 마지막 날 주가 확인\n",
    "stock_prices = [80000, 75000, 78000, 82000, 79000]\n",
    "last_day_price = stock_prices[-1]\n",
    "print(f\"마지막 날 주가: {last_day_price}\")\n",
    "if last_day_price >= 80000:\n",
    "    print(\"매도 고려\")\n",
    "else:\n",
    "    print(\"보유 또는 매수 고려\")"
   ]
  },
  {
   "cell_type": "code",
   "execution_count": 17,
   "id": "e170f486",
   "metadata": {},
   "outputs": [
    {
     "name": "stdout",
     "output_type": "stream",
     "text": [
      "주식 비중: 0.5\n",
      "중립적 포트폴리오\n"
     ]
    }
   ],
   "source": [
    "# 실습 1-2: 포트폴리오 분류\n",
    "portfolio = {\"주식\": 0.5, \"채권\": 0.3, \"현금\": 0.2}\n",
    "stock_weight = portfolio[\"주식\"] # 주식 비중 가져오기\n",
    "print(f\"주식 비중: {stock_weight}\")\n",
    "if stock_weight >= 0.6:\n",
    "    print(\"공격적 포트폴리오\")\n",
    "elif stock_weight >= 0.4: # 0.6 미만, 0.4 이상\n",
    "    print(\"중립적 포트폴리오\")\n",
    "else: # 0.4 미만\n",
    "    print(\"안정적 포트폴리오\")"
   ]
  },
  {
   "cell_type": "code",
   "execution_count": 18,
   "id": "696f310f",
   "metadata": {},
   "outputs": [
    {
     "name": "stdout",
     "output_type": "stream",
     "text": [
      "포트폴리오에 금이(가) 포함되어 있지 않습니다.\n"
     ]
    }
   ],
   "source": [
    "# 실습 1-3: 자산 포함 여부 확인\n",
    "# portfolio 딕셔너리는 위 셀에서 정의됨\n",
    "asset_to_check = \"금\"\n",
    "if asset_to_check in portfolio: # 딕셔너리에서는 key를 기준으로 확인\n",
    "    print(f\"포트폴리오에 {asset_to_check}이(가) 포함되어 있습니다.\")\n",
    "else:\n",
    "    print(f\"포트폴리오에 {asset_to_check}이(가) 포함되어 있지 않습니다.\")"
   ]
  },
  {
   "cell_type": "markdown",
   "id": "d9fc7e5f",
   "metadata": {},
   "source": [
    "---\n",
    "\n",
    "## 5. 여러 조건을 조합하기: 논리 연산자 (`and`, `or`, `not`)\n",
    "\n",
    "하나의 조건이 아니라 여러 조건을 **동시에** 만족하거나, **적어도 하나** 만족하는지 등을 확인해야 할 때 논리 연산자를 사용합니다.\n",
    "\n",
    "* `and`: 두 조건 **모두** `True` 여야 최종 `True`\n",
    "* `or`: 두 조건 중 **하나라도** `True` 이면 최종 `True`\n",
    "* `not`: 조건의 `True`/`False` 를 **반대로** 바꿈\n",
    "\n",
    "**논리 연산자 예제:**\n",
    "\n",
    "**예제 1: 경제 안정성 판단 (`and` 사용)**"
   ]
  },
  {
   "cell_type": "code",
   "execution_count": 19,
   "id": "1a8880bf",
   "metadata": {},
   "outputs": [
    {
     "name": "stdout",
     "output_type": "stream",
     "text": [
      "물가상승률: 1.8%, 실업률: 3.5%\n",
      "경제 안정성: 양호\n"
     ]
    }
   ],
   "source": [
    "# 딕셔너리에서 값 가져오기\n",
    "macro_indicators = {\"inflation_rate\": 1.8, \"unemployment_rate\": 3.5}\n",
    "inflation = macro_indicators[\"inflation_rate\"]\n",
    "unemployment = macro_indicators[\"unemployment_rate\"]\n",
    "\n",
    "print(f\"물가상승률: {inflation}%, 실업률: {unemployment}%\")\n",
    "\n",
    "# 물가 2% 미만 AND 실업률 4% 미만일 때 안정적이라고 판단\n",
    "if inflation < 2.0 and unemployment < 4.0:\n",
    "    print(\"경제 안정성: 양호\")\n",
    "else:\n",
    "    print(\"경제 안정성: 개선 필요\")"
   ]
  },
  {
   "cell_type": "markdown",
   "id": "86fd4cf0",
   "metadata": {},
   "source": [
    "**예제 2: 투자 위험 경고 (`or` 사용)**\n",
    "\n",
    "부채 비율이 높거나(150% 이상) 영업 이익률이 낮으면(5% 미만) 위험 경고를 보냅니다."
   ]
  },
  {
   "cell_type": "code",
   "execution_count": 20,
   "id": "bce94269",
   "metadata": {},
   "outputs": [
    {
     "name": "stdout",
     "output_type": "stream",
     "text": [
      "부채비율: 180.0%, 영업이익률: 3.2%\n",
      "재무 위험 경고!\n"
     ]
    }
   ],
   "source": [
    "company_financials = {\"debt_ratio\": 180.0, \"operating_margin\": 3.2} # 단위: %\n",
    "debt = company_financials[\"debt_ratio\"]\n",
    "margin = company_financials[\"operating_margin\"]\n",
    "\n",
    "print(f\"부채비율: {debt}%, 영업이익률: {margin}%\")\n",
    "\n",
    "# 부채비율이 150 이상이거나 OR 영업이익률이 5 미만이면 위험\n",
    "if debt >= 150.0 or margin < 5.0:\n",
    "    print(\"재무 위험 경고!\")\n",
    "else:\n",
    "    print(\"재무 상태 비교적 안정적.\")"
   ]
  },
  {
   "cell_type": "markdown",
   "id": "4887a9b5",
   "metadata": {},
   "source": [
    "**예제 3: 특정 자산 제외 확인 (`not in` 사용)**\n",
    "\n",
    "포트폴리오에 '암호화폐'가 포함되어 있지 *않은지* 확인합니다. `not in` 은 `in`의 결과를 반대로 합니다."
   ]
  },
  {
   "cell_type": "code",
   "execution_count": 21,
   "id": "8aaa8ec0",
   "metadata": {},
   "outputs": [
    {
     "name": "stdout",
     "output_type": "stream",
     "text": [
      "포트폴리오 구성: ['주식', '채권', '부동산']\n",
      "확인 대상: 암호화폐\n",
      "암호화폐는 포트폴리오에 포함되지 않았습니다.\n"
     ]
    }
   ],
   "source": [
    "portfolio_assets = [\"주식\", \"채권\", \"부동산\"] # 리스트 사용 예시\n",
    "asset_check = \"암호화폐\"\n",
    "\n",
    "print(f\"포트폴리오 구성: {portfolio_assets}\")\n",
    "print(f\"확인 대상: {asset_check}\")\n",
    "\n",
    "if asset_check not in portfolio_assets: # '암호화폐'가 리스트에 없는가? (True)\n",
    "    print(f\"{asset_check}는 포트폴리오에 포함되지 않았습니다.\")\n",
    "else:\n",
    "    print(f\"{asset_check}가 포트폴리오에 포함되어 있습니다.\")"
   ]
  },
  {
   "cell_type": "markdown",
   "id": "481a278f",
   "metadata": {},
   "source": [
    "---\n",
    "\n",
    "### [실습 2] 논리 연산자 및 `in` 연습\n",
    "\n",
    "1.  **우수 고객 선정:** 고객 정보 딕셔너리 `customer = {\"age\": 35, \"total_purchase\": 1500000, \"is_member\": True}` 가 주어졌을 때, 다음 두 조건을 **모두** 만족하면 \"우수 고객\"을 출력하는 코드를 작성하세요.\n",
    "    * 조건 1: 총 구매액 (`total_purchase`) 100만원 이상\n",
    "    * 조건 2: 멤버십 회원 (`is_member` 가 `True`)\n",
    "2.  **투자 부적격 자산 확인:** 투자 대상 자산 리스트 `investment_targets = [\"삼성전자\", \"미국 국채 10년물\", \"금 ETF\"]` 가 있습니다. `target_asset = \"비트코인\"` 이라는 변수가 주어졌을 때, 이 자산이 `investment_targets` 리스트에 포함되어 있지 **않다면** (`not in` 사용) \"투자 부적격 자산입니다.\" 를 출력하세요.\n",
    "\n",
    "---"
   ]
  },
  {
   "cell_type": "code",
   "execution_count": 22,
   "id": "9c2c5e53",
   "metadata": {},
   "outputs": [
    {
     "name": "stdout",
     "output_type": "stream",
     "text": [
      "총 구매액: 1500000, 멤버십 여부: True\n",
      "우수 고객\n"
     ]
    }
   ],
   "source": [
    "# 실습 2-1: 우수 고객 선정\n",
    "customer = {\"age\": 35, \"total_purchase\": 1500000, \"is_member\": True}\n",
    "total_purchase = customer[\"total_purchase\"]\n",
    "is_member = customer[\"is_member\"]\n",
    "\n",
    "print(f\"총 구매액: {total_purchase}, 멤버십 여부: {is_member}\")\n",
    "\n",
    "if total_purchase >= 1000000 and is_member == True: # is_member 만 써도 True인지 확인 가능\n",
    "    print(\"우수 고객\")\n",
    "else:\n",
    "    print(\"일반 고객\")"
   ]
  },
  {
   "cell_type": "code",
   "execution_count": 23,
   "id": "2a4c6be5",
   "metadata": {},
   "outputs": [
    {
     "name": "stdout",
     "output_type": "stream",
     "text": [
      "투자 대상 리스트: ['삼성전자', '미국 국채 10년물', '금 ETF']\n",
      "확인 자산: 비트코인\n",
      "비트코인은(는) 투자 부적격 자산입니다.\n"
     ]
    }
   ],
   "source": [
    "# 실습 2-2: 투자 부적격 자산 확인\n",
    "investment_targets = [\"삼성전자\", \"미국 국채 10년물\", \"금 ETF\"]\n",
    "target_asset = \"비트코인\"\n",
    "\n",
    "print(f\"투자 대상 리스트: {investment_targets}\")\n",
    "print(f\"확인 자산: {target_asset}\")\n",
    "\n",
    "if target_asset not in investment_targets:\n",
    "    print(f\"{target_asset}은(는) 투자 부적격 자산입니다.\")\n",
    "# 만약 target_asset이 리스트에 있다면 아무것도 출력되지 않음 (else가 없으므로)"
   ]
  },
  {
   "cell_type": "markdown",
   "id": "c7eb8929",
   "metadata": {},
   "source": [
    "---\n",
    "\n",
    "## 6. 경제/회계 응용: 리스트와 딕셔너리에 조건문 적용하기\n",
    "\n",
    "이제 조건문을 리스트와 딕셔너리에 담긴 데이터를 분석하는 데 좀 더 구체적으로 적용해 봅시다.\n",
    "\n",
    "**(주의!)** 지금은 리스트나 딕셔너리의 *개별 요소*에 접근해서 조건을 확인하는 방식 위주로 살펴봅니다. 리스트나 딕셔너리의 *모든 요소*를 자동으로 하나씩 검사하려면 다음 주에 배울 **반복문(Loop)** 이 필요합니다. 오늘은 조건문 자체에 집중해 주세요.\n",
    "\n",
    "**예제 1: 분기별 매출 목표 달성 여부 확인 (리스트)**"
   ]
  },
  {
   "cell_type": "code",
   "execution_count": 24,
   "id": "1df0c879",
   "metadata": {},
   "outputs": [
    {
     "name": "stdout",
     "output_type": "stream",
     "text": [
      "분기별 매출액: [120.5, 135.2, 115.0, 150.0]\n",
      "목표 매출액: 130.0억 원\n",
      "\n",
      "--- 2분기 실적 확인 ---\n",
      "2분기 목표 달성!\n",
      "\n",
      "--- 4분기 실적 확인 ---\n",
      "4분기 목표 달성!\n",
      "\n",
      "--- 4분기 vs 1분기 성장 확인 ---\n",
      "4분기 매출이 1분기보다 증가했습니다.\n"
     ]
    }
   ],
   "source": [
    "quarterly_revenue = [120.5, 135.2, 115.0, 150.0] # 단위: 억 원\n",
    "revenue_target = 130.0 # 분기 목표 매출액\n",
    "\n",
    "print(f\"분기별 매출액: {quarterly_revenue}\")\n",
    "print(f\"목표 매출액: {revenue_target}억 원\")\n",
    "\n",
    "# 2분기 실적 확인 (인덱스 1)\n",
    "print(\"\\n--- 2분기 실적 확인 ---\")\n",
    "if quarterly_revenue[1] >= revenue_target:\n",
    "    print(\"2분기 목표 달성!\")\n",
    "else:\n",
    "    print(\"2분기 목표 미달.\")\n",
    "\n",
    "# 4분기 실적 확인 (인덱스 3)\n",
    "print(\"\\n--- 4분기 실적 확인 ---\")\n",
    "if quarterly_revenue[3] >= revenue_target:\n",
    "    print(\"4분기 목표 달성!\")\n",
    "else:\n",
    "    print(\"4분기 목표 미달.\")\n",
    "\n",
    "# 마지막 분기가 첫 분기보다 성장했는지 확인\n",
    "print(\"\\n--- 4분기 vs 1분기 성장 확인 ---\")\n",
    "if quarterly_revenue[-1] > quarterly_revenue[0]:\n",
    "    print(\"4분기 매출이 1분기보다 증가했습니다.\")\n",
    "else:\n",
    "    print(\"4분기 매출이 1분기보다 증가하지 않았거나 동일합니다.\")"
   ]
  },
  {
   "cell_type": "markdown",
   "id": "3e54c2fa",
   "metadata": {},
   "source": [
    "**예제 2: 기업 재무 건전성 종합 평가 (딕셔너리)**\n",
    "\n",
    "여러 재무 지표를 딕셔너리에 담고, 각 지표가 기준치를 만족하는지 종합적으로 판단해 봅시다."
   ]
  },
  {
   "cell_type": "code",
   "execution_count": 25,
   "id": "132f7b5d",
   "metadata": {},
   "outputs": [
    {
     "name": "stdout",
     "output_type": "stream",
     "text": [
      "--- 기업 재무 건전성 평가 ---\n",
      "데이터: {'유동비율(%)': 150.5, '부채비율(%)': 95.8, '영업이익률(%)': 12.3}\n",
      "\n",
      "유동비율 양호(>100.0%): True\n",
      "부채비율 양호(<150.0%): True\n",
      "영업이익률 양호(>10.0%): True\n",
      "\n",
      "종합 평가: 매우 양호\n"
     ]
    }
   ],
   "source": [
    "financial_health = {\n",
    "    \"유동비율(%)\": 150.5,   # Current Ratio (단기 부채 상환 능력, 보통 100% 이상 양호)\n",
    "    \"부채비율(%)\": 95.8,    # Debt-to-Equity Ratio (타인 자본 의존도, 낮을수록 좋음)\n",
    "    \"영업이익률(%)\": 12.3    # Operating Margin (수익성, 높을수록 좋음)\n",
    "}\n",
    "\n",
    "print(\"--- 기업 재무 건전성 평가 ---\")\n",
    "print(f\"데이터: {financial_health}\")\n",
    "\n",
    "# 평가 기준 설정\n",
    "current_ratio_threshold = 100.0\n",
    "debt_ratio_threshold = 150.0\n",
    "operating_margin_threshold = 10.0\n",
    "\n",
    "# 각 지표 평가\n",
    "is_current_ratio_ok = financial_health[\"유동비율(%)\"] >= current_ratio_threshold\n",
    "is_debt_ratio_ok = financial_health[\"부채비율(%)\"] < debt_ratio_threshold\n",
    "is_margin_ok = financial_health[\"영업이익률(%)\"] >= operating_margin_threshold\n",
    "\n",
    "print(f\"\\n유동비율 양호(>{current_ratio_threshold}%): {is_current_ratio_ok}\")\n",
    "print(f\"부채비율 양호(<{debt_ratio_threshold}%): {is_debt_ratio_ok}\")\n",
    "print(f\"영업이익률 양호(>{operating_margin_threshold}%): {is_margin_ok}\")\n",
    "\n",
    "# 종합 평가 (모든 조건 만족 시 '매우 양호')\n",
    "if is_current_ratio_ok and is_debt_ratio_ok and is_margin_ok:\n",
    "    overall_assessment = \"매우 양호\"\n",
    "# 하나라도 만족 못하면 '개선 필요' (더 세분화 가능)\n",
    "else:\n",
    "    overall_assessment = \"일부 개선 필요\"\n",
    "\n",
    "print(f\"\\n종합 평가: {overall_assessment}\")"
   ]
  },
  {
   "cell_type": "markdown",
   "id": "b3aa39c0",
   "metadata": {},
   "source": [
    "---\n",
    "\n",
    "## 7. 마무리 및 다음 시간 예고\n",
    "\n",
    "오늘은 프로그램의 의사결정 능력을 부여하는 **조건문 (`if`, `elif`, `else`)** 과 이를 위한 **비교 연산자**, **논리 연산자**에 대해 배웠습니다. 특히, 지난주에 배운 **리스트**와 **딕셔너리**에 저장된 데이터를 조건문을 이용해 어떻게 분석하고 판단할 수 있는지 살펴보았습니다. 코드의 논리적 흐름을 제어하는 **들여쓰기**의 중요성도 다시 한번 강조했습니다.\n",
    "\n",
    "**다음 시간에는:**\n",
    "\n",
    "이제 특정 조건에 따라 다른 행동을 하도록 만들 수 있게 되었으니, 다음 단계는 **반복적인 작업**을 효율적으로 처리하는 것입니다. 예를 들어, 리스트에 있는 *모든* 국가의 GDP를 하나씩 확인하거나, 딕셔너리에 있는 *모든* 재무 지표를 평가하는 작업을 자동화하는 방법을 배웁니다. 이를 위해 파이썬의 **반복문 (Loops)**, 특히 `for` 반복문에 대해 배우고, 리스트와 함께 활용하는 방법을 익힐 것입니다. 반복문을 배우면 대량의 데이터를 처리하는 훨씬 강력한 코드를 작성할 수 있게 됩니다!\n",
    "\n",
    "---\n",
    "\n",
    "## 세 번째 주차 과제\n",
    "\n",
    "오늘 배운 조건문과 연산자들을 복습하기 위해 다음 과제를 Colab에서 새 노트(`Week3_Assignment.ipynb` 등)에 풀어보세요.\n",
    "\n",
    "1.  **포트폴리오 위험 평가:**\n",
    "    * `my_assets = {\"주식\": 0.6, \"채권\": 0.2, \"현금\": 0.1, \"암호화폐\": 0.1}` 딕셔너리가 있습니다 (값은 비중).\n",
    "    * \"암호화폐\" 비중이 0.05 (5%)를 초과 **하거나** \"주식\" 비중이 0.7 (70%)을 초과하면 \"고위험 포트폴리오 경고!\"를 출력하세요 (`or` 사용).\n",
    "    * 두 조건 모두 해당하지 않으면 \"중위험 또는 저위험 포트폴리오\"를 출력하세요.\n",
    "2.  **국가 리스트 분류:**\n",
    "    * `countries = [\"미국\", \"중국\", \"한국\", \"베트남\", \"독일\"]` 리스트가 있습니다.\n",
    "    * `target_country = \"한국\"` 이라는 변수가 주어졌을 때,\n",
    "        * `target_country`가 `countries` 리스트에 **있으면서 (`in`)** 그 이름이 \"미국\", \"중국\", \"독일\" 중 하나와 **같다면 (`==`, `or` 사용)** \"G7 또는 주요 경제국 포함\"을 출력하세요.\n",
    "        * 리스트에 있긴 하지만 위 세 국가가 아니라면 (예: \"한국\", \"베트남\") \"기타 분석 대상 국가\"를 출력하세요.\n",
    "        * 리스트에 아예 없다면 \"분석 대상 국가 아님\"을 출력하세요. (`if-elif-else` 구조와 `in`, `and`/`or` 조합 활용)\n",
    "3.  **간단한 환율 비교:**\n",
    "    * `exchange_rates = {\"USD\": 1350.0, \"EUR\": 1450.0, \"JPY\": 9.5}` 딕셔너리가 있습니다 (1 단위당 원화 가치).\n",
    "    * \"USD\" 환율과 \"EUR\" 환율을 비교하여 어느 통화의 원화 가치가 더 높은지 출력하세요.\n",
    "    * \"JPY\" 환율이 10.0 미만인지 확인하고, 미만이라면 \"엔화 약세 가능성\"을 출력하세요.\n",
    "\n",
    "---"
   ]
  },
  {
   "cell_type": "code",
   "execution_count": null,
   "id": "a3332700",
   "metadata": {},
   "outputs": [],
   "source": []
  }
 ],
 "metadata": {
  "kernelspec": {
   "display_name": ".venv",
   "language": "python",
   "name": "python3"
  },
  "language_info": {
   "codemirror_mode": {
    "name": "ipython",
    "version": 3
   },
   "file_extension": ".py",
   "mimetype": "text/x-python",
   "name": "python",
   "nbconvert_exporter": "python",
   "pygments_lexer": "ipython3",
   "version": "3.12.0"
  }
 },
 "nbformat": 4,
 "nbformat_minor": 5
}
