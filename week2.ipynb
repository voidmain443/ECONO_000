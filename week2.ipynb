{
 "cells": [
  {
   "cell_type": "markdown",
   "metadata": {},
   "source": [
    "---\n",
    "title: week2. Variables\n",
    "format:\n",
    "    html:\n",
    "jupyter: python3\n",
    "---"
   ]
  },
  {
   "cell_type": "markdown",
   "metadata": {},
   "source": [
    "\n",
    "\n",
    "# 제 2주차: 데이터에 이름표를 붙여주자! (변수와 기본 자료형)\n",
    "\n",
    "**강의 개요:**\n",
    "\n",
    "지난주에는 파이썬의 기본 계산 기능과 Colab 환경에 익숙해지는 시간을 가졌습니다. 하지만 실제 데이터를 다루려면 숫자나 글자들을 단순히 계산하는 것 이상이 필요합니다. 오늘은 데이터를 효율적으로 저장하고 관리하는 핵심 개념인 **변수(Variable)** 와 데이터의 종류를 나타내는 **자료형(Data Type)** 에 대해 깊이 알아볼 것입니다. 또한, 사용자로부터 직접 정보를 입력받는 방법과 데이터의 종류를 필요에 따라 바꾸는 **형 변환**에 대해서도 배우고 실습합니다. 이 개념들은 앞으로 우리가 경제 및 회계 데이터를 다루는 데 있어 가장 기초적이면서도 중요한 토대가 됩니다.\n",
    "\n",
    "**이번 시간 학습 목표:**\n",
    "\n",
    "1.  변수가 왜 필요한지 경제/회계 데이터 예를 통해 이해하고, 변수를 만들어 값을 저장(할당)할 수 있습니다.\n",
    "2.  정수(`int`), 실수(`float`), 문자열(`str`), 불리언(`bool`) 등 파이썬의 기본 자료형을 구분하고, 실제 경제 지표(GDP, 인구, 환율 등) 예시와 연결할 수 있습니다.\n",
    "3.  `type()` 함수를 사용하여 변수에 저장된 데이터의 자료형을 확인할 수 있습니다.\n",
    "4.  `int()`, `float()`, `str()` 함수를 사용하여 문자열로 된 숫자나 다른 형태의 데이터를 계산이나 출력에 맞게 형 변환할 수 있습니다.\n",
    "5.  `input()` 함수로 사용자로부터 국가명, GDP, 인구수 등의 정보를 입력받고, 이를 적절한 자료형으로 변환하여 활용할 수 있습니다.\n",
    "\n",
    "---\n",
    "\n",
    "\n",
    "## 1. 왜 '변수'가 필요할까요? : 데이터 관리의 시작\n",
    "\n",
    "지난주 마지막 예제에서 티셔츠 가격(15000), 판매량(50) 등의 숫자를 코드에 직접 사용했었죠. 만약 이 티셔츠 가게의 분기별 매출 보고서를 작성한다고 상상해 봅시다. 1분기 매출액, 2분기 매출액, 영업 비용, 순이익... 이런 값들을 매번 숫자로 직접 입력한다면 어떨까요?\n",
    "\n",
    "* **실수 가능성:** 숫자를 잘못 입력할 가능성이 커집니다. (예: '15000'을 '1500'으로 입력)\n",
    "* **수정의 어려움:** 만약 특정 분기의 매출액이 수정되어야 한다면, 코드 전체에서 해당 숫자를 찾아 모두 바꿔야 합니다.\n",
    "* **가독성 저하:** `15000 * 50` 같은 코드만 봐서는 이 숫자들이 무엇을 의미하는지 바로 알기 어렵습니다.\n",
    "\n",
    "**변수(Variable)** 는 이러한 문제를 해결해 줍니다. 변수는 특정 값을 저장하는 **메모리 공간에 붙이는 이름표**입니다. 예를 들어, 한국의 2024년 GDP 추정치 약 2,200조 원이라는 값을 `gdp_korea_2024` 라는 이름표(변수명)를 붙여 저장해 둘 수 있습니다."
   ]
  },
  {
   "cell_type": "code",
   "execution_count": 64,
   "metadata": {},
   "outputs": [],
   "source": [
    "# 예시 (아직 실행하지 마세요. 개념 설명입니다)\n",
    "gdp_korea_2024 = 2200.0 # 단위: 조 원 (실수)\n",
    "population_korea_2024 = 51700000 # 단위: 명 (정수)"
   ]
  },
  {
   "cell_type": "markdown",
   "metadata": {},
   "source": [
    "이렇게 변수를 사용하면 다음과 같은 장점이 있습니다.\n",
    "\n",
    "* **의미 명확화:** `gdp_korea_2024` 라는 이름만 봐도 '한국의 2024년 GDP 값'이라는 것을 알 수 있습니다. (가독성 향상)\n",
    "* **값 재사용:** 이 값을 여러 계산(예: 1인당 GDP 계산)에 쉽게 반복 사용할 수 있습니다. (재사용성 증가)\n",
    "* **쉬운 수정:** 만약 GDP 추정치가 2,250조 원으로 변경되면, `gdp_korea_2024 = 2250.0` 딱 한 줄만 수정하면 이 변수를 사용한 모든 계산 결과가 자동으로 업데이트됩니다. (유지보수 용이)\n",
    "\n",
    "---\n",
    "\n",
    "\n",
    "## 2. 변수 만들고 사용하기 : 이름표 붙이고 값 담기\n",
    "\n",
    "파이썬에서 변수를 만드는 방법은 아주 간단합니다. **할당 연산자 (`=`)** 를 사용해서 변수 이름에 값을 저장(할당)하면 됩니다.\n",
    "\n",
    "`변수이름 = 값`\n",
    "\n",
    "**주의:** `=`는 \"같다\"는 의미가 아니라, **\"오른쪽의 값을 왼쪽의 변수 이름에 할당(저장)하라\"** 는 명령입니다!\n",
    "\n",
    "**예제 1: 국가별 정보 변수에 저장하고 출력하기**\n"
   ]
  },
  {
   "cell_type": "code",
   "execution_count": 65,
   "metadata": {},
   "outputs": [
    {
     "name": "stdout",
     "output_type": "stream",
     "text": [
      "국가명: 대한민국\n",
      "인구수: 51700000 명\n",
      "GDP: 2200.0 조 원\n",
      "\n",
      "--- 다른 국가 정보 ---\n",
      "국가명: 미국\n",
      "인구수: 335000000 명\n",
      "GDP: 27.0 조 달러\n"
     ]
    }
   ],
   "source": [
    "# 국가 정보 변수에 할당\n",
    "country_name_kr = \"대한민국\"\n",
    "population_kr = 51700000  # 2024년 추정치 (정수)\n",
    "gdp_kr_trillion_krw = 2200.0 # 2024년 추정치 (조 원, 실수)\n",
    "\n",
    "country_name_us = \"미국\"\n",
    "population_us = 335000000 # 2024년 추정치 (정수)\n",
    "gdp_us_trillion_usd = 27.0 # 2024년 추정치 (조 달러, 실수)\n",
    "\n",
    "# 변수에 저장된 값 출력\n",
    "print(\"국가명:\", country_name_kr)\n",
    "print(\"인구수:\", population_kr, \"명\")\n",
    "print(f\"GDP: {gdp_kr_trillion_krw} 조 원\") # f-string 사용 예시\n",
    "\n",
    "print(\"\\n--- 다른 국가 정보 ---\") # \\n은 줄바꿈\n",
    "print(\"국가명:\", country_name_us)\n",
    "print(\"인구수:\", population_us, \"명\")\n",
    "print(f\"GDP: {gdp_us_trillion_usd} 조 달러\")"
   ]
  },
  {
   "cell_type": "markdown",
   "metadata": {},
   "source": [
    "**예제 2: 회계 정보 변수에 저장하기**"
   ]
  },
  {
   "cell_type": "code",
   "execution_count": 66,
   "metadata": {},
   "outputs": [
    {
     "name": "stdout",
     "output_type": "stream",
     "text": [
      "회사명: ABC전자\n",
      "2024년 매출액: 150000000000 원\n",
      "2024년 영업비용: 120000000000 원\n",
      "2024년 순이익: 30000000000 원\n"
     ]
    }
   ],
   "source": [
    "# 가상 기업 'ABC전자'의 2024년 실적\n",
    "company_name = \"ABC전자\"\n",
    "revenue_2024 = 150000000000 # 매출액 (원)\n",
    "operating_cost_2024 = 120000000000 # 영업 비용 (원)\n",
    "net_income_2024 = revenue_2024 - operating_cost_2024 # 순이익 계산\n",
    "\n",
    "print(\"회사명:\", company_name)\n",
    "print(\"2024년 매출액:\", revenue_2024, \"원\")\n",
    "print(\"2024년 영업비용:\", operating_cost_2024, \"원\")\n",
    "print(\"2024년 순이익:\", net_income_2024, \"원\")"
   ]
  },
  {
   "cell_type": "markdown",
   "metadata": {},
   "source": [
    "**예제 3: 변수 값 변경 (재할당)**\n",
    "\n",
    "변수에는 다른 값을 다시 할당할 수 있습니다. 변수는 이름표일 뿐이고, 그 안에 담긴 내용물(값)은 바뀔 수 있습니다.\n",
    "\n"
   ]
  },
  {
   "cell_type": "code",
   "execution_count": 67,
   "metadata": {},
   "outputs": [
    {
     "name": "stdout",
     "output_type": "stream",
     "text": [
      "현재 달러 환율: 1350.5\n",
      "변경된 달러 환율: 1360.0\n"
     ]
    }
   ],
   "source": [
    "# 환율 정보 (2025년 4월 17일 가상 환율)\n",
    "exchange_rate_usd_krw = 1350.5 # 1달러당 원화\n",
    "\n",
    "print(\"현재 달러 환율:\", exchange_rate_usd_krw)\n",
    "\n",
    "# 환율이 변경되었다고 가정\n",
    "exchange_rate_usd_krw = 1360.0 # 새로운 값 할당\n",
    "\n",
    "print(\"변경된 달러 환율:\", exchange_rate_usd_krw)"
   ]
  },
  {
   "cell_type": "markdown",
   "metadata": {},
   "source": [
    "**변수 이름 규칙 (복습 및 추가)**\n",
    "\n",
    "* 영문자 또는 밑줄(`_`)로 시작 (`gdp_2024` O, `2024_gdp` X)\n",
    "* 영문자, 숫자, 밑줄(`_`)만 사용 가능 (`net_income` O, `net-income` X)\n",
    "* 대소문자 구분 (`gdp` 와 `GDP` 는 다른 변수)\n",
    "* 파이썬 예약어 사용 불가 (`if`, `else`, `class`, `import` 등)\n",
    "* **[권장]** 의미를 명확히 알 수 있는 이름 사용 (`population_china` > `pop_cn` > `pc`)\n",
    "* **[권장]** 소문자와 밑줄 조합(스네이크 케이스) 사용 (`per_capita_gdp`)\n",
    "\n",
    "---\n",
    "\n",
    "\n",
    "## 3. 데이터의 종류: 기본 자료형 (Data Types)\n",
    "\n",
    "변수에는 다양한 종류의 데이터를 담을 수 있습니다. 파이썬은 이 데이터의 종류, 즉 **자료형(Data Type)** 을 중요하게 생각합니다. 왜냐하면 데이터의 종류에 따라 할 수 있는 연산이나 기능이 다르기 때문이죠. 예를 들어, 숫자(GDP, 인구)는 더하거나 뺄 수 있지만, 글자(국가 이름)를 더하는 것은 의미가 다릅니다.\n",
    "\n",
    "파이썬의 기본적인 자료형들을 경제/회계 예시와 함께 살펴봅시다.\n",
    "\n",
    "**1. `int` (Integer: 정수)**\n",
    "\n",
    "* 소수점 없는 숫자를 나타냅니다.\n",
    "* **예시:** 인구수, 상품 개수, 연도, 회계 계정 코드 등\n",
    "* **코드 예:**\n",
    "\n"
   ]
  },
  {
   "cell_type": "code",
   "execution_count": 68,
   "metadata": {},
   "outputs": [
    {
     "name": "stdout",
     "output_type": "stream",
     "text": [
      "연도: 2025 <class 'int'>\n",
      "서울시 인구: 9400000 <class 'int'>\n",
      "분석 대상 기업 수: 350 <class 'int'>\n"
     ]
    }
   ],
   "source": [
    "year = 2025\n",
    "population_seoul = 9400000 # 서울시 인구 (약 940만 명)\n",
    "num_companies = 350\n",
    "\n",
    "print(\"연도:\", year, type(year))\n",
    "print(\"서울시 인구:\", population_seoul, type(population_seoul))\n",
    "print(\"분석 대상 기업 수:\", num_companies, type(num_companies))"
   ]
  },
  {
   "cell_type": "markdown",
   "metadata": {},
   "source": [
    "**2. `float` (Floating-point: 실수)**\n",
    "\n",
    "* 소수점이 있는 숫자를 나타냅니다. 매우 큰 수나 작은 수를 표현할 때 지수 형태(예: `2.5e-4`)를 사용하기도 합니다.\n",
    "* **예시:** GDP, 주가, 이자율, 환율, 물가 상승률, 재무 비율 (예: 부채 비율) 등\n",
    "* **코드 예:**\n"
   ]
  },
  {
   "cell_type": "code",
   "execution_count": 69,
   "metadata": {},
   "outputs": [
    {
     "name": "stdout",
     "output_type": "stream",
     "text": [
      "중국 GDP: 19.0 조 달러 <class 'float'>\n",
      "기준 금리: 0.035 <class 'float'>\n",
      "달러/원 환율: 1355.75 <class 'float'>\n",
      "부채 비율: 1.2 <class 'float'>\n"
     ]
    }
   ],
   "source": [
    "\n",
    "gdp_china_trillion_usd = 19.0 # 중국 GDP (약 19조 달러)\n",
    "interest_rate = 0.035       # 기준 금리 3.5%\n",
    "usd_krw_rate = 1355.75      # 달러/원 환율\n",
    "debt_to_equity_ratio = 1.2  # 부채 비율 120%\n",
    "\n",
    "print(\"중국 GDP:\", gdp_china_trillion_usd, \"조 달러\", type(gdp_china_trillion_usd))\n",
    "print(\"기준 금리:\", interest_rate, type(interest_rate))\n",
    "print(\"달러/원 환율:\", usd_krw_rate, type(usd_krw_rate))\n",
    "print(\"부채 비율:\", debt_to_equity_ratio, type(debt_to_equity_ratio))"
   ]
  },
  {
   "cell_type": "markdown",
   "metadata": {},
   "source": [
    "**3. `str` (String: 문자열)**\n",
    "\n",
    "* 글자들의 나열을 나타냅니다. 작은따옴표(`'`) 또는 큰따옴표(`\"`)로 감싸서 표현합니다.\n",
    "* **예시:** 국가 이름, 도시 이름, 회사 이름, 보고서 제목, 날짜(텍스트 형태), 통화 단위(KRW, USD) 등\n",
    "* **코드 예:**\n",
    "\n"
   ]
  },
  {
   "cell_type": "code",
   "execution_count": 70,
   "metadata": {},
   "outputs": [
    {
     "name": "stdout",
     "output_type": "stream",
     "text": [
      "국가: Germany <class 'str'>\n",
      "통화: EUR <class 'str'>\n",
      "보고서 제목: 2024년 4분기 경제 동향 보고서 <class 'str'>\n",
      "날짜(문자열): 2025-04-17 <class 'str'>\n"
     ]
    }
   ],
   "source": [
    "country = \"Germany\"\n",
    "currency = 'EUR'\n",
    "report_title = \"2024년 4분기 경제 동향 보고서\"\n",
    "date_str = \"2025-04-17\"\n",
    "\n",
    "print(\"국가:\", country, type(country))\n",
    "print(\"통화:\", currency, type(currency))\n",
    "print(\"보고서 제목:\", report_title, type(report_title))\n",
    "print(\"날짜(문자열):\", date_str, type(date_str))"
   ]
  },
  {
   "cell_type": "markdown",
   "metadata": {},
   "source": [
    "**4. `bool` (Boolean: 불리언)**\n",
    "\n",
    "* '참'(`True`) 또는 '거짓'(`False`) 두 가지 상태만을 나타냅니다. 주로 조건의 결과나 특정 상태를 표시할 때 사용됩니다. (주의: 첫 글자는 반드시 대문자!)\n",
    "* **예시:** 경제 성장 여부 (`is_growth_positive`), 흑자 여부 (`has_surplus`), 특정 조건 만족 여부 등\n",
    "* **코드 예:**\n"
   ]
  },
  {
   "cell_type": "code",
   "execution_count": 71,
   "metadata": {},
   "outputs": [
    {
     "name": "stdout",
     "output_type": "stream",
     "text": [
      "고인플레이션 상태: True <class 'bool'>\n",
      "경기 침체 상태: False <class 'bool'>\n"
     ]
    }
   ],
   "source": [
    "is_inflation_high = True  # 물가가 높은 상태인가?\n",
    "is_recession = False      # 경기 침체 상태인가?\n",
    "\n",
    "print(\"고인플레이션 상태:\", is_inflation_high, type(is_inflation_high))\n",
    "print(\"경기 침체 상태:\", is_recession, type(is_recession))"
   ]
  },
  {
   "cell_type": "markdown",
   "metadata": {},
   "source": [
    "**`type()` 함수 활용**\n",
    "\n",
    "변수에 어떤 종류의 데이터가 들어있는지 확인하려면 `type(변수명)` 처럼 `type()` 함수를 사용하면 됩니다. 위 예제들에서 `type()` 함수의 결과를 함께 출력했습니다.\n",
    "\n",
    "---\n",
    "\n",
    "\n",
    "\n",
    "### [실습 1] 변수와 자료형 연습\n",
    "\n",
    "아래 경제/회계 관련 데이터를 변수에 저장하고, 각 변수의 값과 자료형을 `print()`, `type()` 함수를 사용하여 출력하는 코드를 작성하세요.\n",
    "\n",
    "1.  일본(Japan)의 2024년 추정 GDP (약 4.5조 달러)를 `gdp_japan_trillion_usd` 변수에 저장하세요. (자료형: `float`)\n",
    "2.  독일(Germany)의 2024년 추정 인구 (약 8,400만 명)를 `population_germany` 변수에 저장하세요. (자료형: `int`)\n",
    "3.  유로화의 통화 코드('EUR')를 `currency_code_eur` 변수에 저장하세요. (자료형: `str`)\n",
    "4.  한국이 OECD 회원국인지 여부 (참)를 `is_korea_oecd_member` 변수에 저장하세요. (자료형: `bool`)\n",
    "\n",
    "---\n"
   ]
  },
  {
   "cell_type": "code",
   "execution_count": 72,
   "metadata": {},
   "outputs": [],
   "source": [
    "# 실습코드 작성 "
   ]
  },
  {
   "cell_type": "markdown",
   "metadata": {},
   "source": [
    "---\n",
    "\n",
    "## 4. 자료형 바꾸기: 형 변환 (Type Conversion)\n",
    "\n",
    "데이터를 다루다 보면, 때때로 자료형을 바꿔야 할 필요가 생깁니다. 예를 들어, 웹사이트에서 가져온 GDP 데이터가 `\"2200.0조\"` 같은 문자열 형태일 수 있습니다. 이걸 계산에 사용하려면 숫자(실수) 형태로 바꿔야겠죠? 또는 사용자로부터 나이를 입력받으면 문자열로 들어오는데, 이를 가지고 출생 연도를 계산하려면 정수로 바꿔야 합니다. 이렇게 데이터의 형태(자료형)를 바꾸는 것을 **형 변환(Type Conversion)** 또는 **캐스팅(Casting)** 이라고 부릅니다.\n",
    "\n",
    "**주요 형 변환 함수:**\n",
    "\n",
    "* **`int(값)`**: 주어진 값을 **정수(int)** 로 변환합니다.\n",
    "    * 실수를 정수로 바꾸면 소수점 이하는 **버려집니다**. (예: `int(3.14)` 는 `3`)\n",
    "    * 숫자 형태의 문자열을 정수로 바꿀 수 있습니다. (예: `int(\"100\")` 는 `100`)\n",
    "* **`float(값)`**: 주어진 값을 **실수(float)** 로 변환합니다.\n",
    "    * 정수나 숫자 형태의 문자열을 실수로 바꿀 수 있습니다. (예: `float(100)` 는 `100.0`, `float(\"3.14\")` 는 `3.14`)\n",
    "* **`str(값)`**: 주어진 값을 **문자열(str)** 로 변환합니다.\n",
    "    * 숫자나 불리언 값을 글자 형태로 바꿀 때 사용합니다. (예: `str(100)` 는 `\"100\"`, `str(True)` 는 `\"True\"`)\n",
    "\n",
    "**형 변환 예제:**\n",
    "\n",
    "**예제 1: 문자열을 숫자로 변환하여 계산하기**\n",
    "\n"
   ]
  },
  {
   "cell_type": "code",
   "execution_count": 73,
   "metadata": {},
   "outputs": [
    {
     "name": "stdout",
     "output_type": "stream",
     "text": [
      "문자열 GDP: 2200.0 <class 'str'>\n",
      "실수 GDP: 2200.0 <class 'float'>\n",
      "문자열 인구: 51700000 <class 'str'>\n",
      "정수 인구: 51700000 <class 'int'>\n",
      "1인당 GDP (조 원/명): 4.2553191489361704e-05\n",
      "1인당 GDP (원): 42553191 원\n"
     ]
    }
   ],
   "source": [
    "gdp_str = \"2200.0\" # GDP 데이터가 문자열로 저장된 경우 (단위: 조 원)\n",
    "population_str = \"51700000\" # 인구 데이터가 문자열로 저장된 경우\n",
    "\n",
    "# per_capita_gdp = gdp_str / population_str # 에러 발생! 문자열끼리는 나눗셈 불가\n",
    "\n",
    "# 계산을 위해 형 변환\n",
    "gdp_float = float(gdp_str)       # 문자열 \"2200.0\"을 실수 2200.0으로 변환\n",
    "population_int = int(population_str) # 문자열 \"51700000\"을 정수 51700000으로 변환\n",
    "\n",
    "# 1인당 GDP 계산 (단위: 조 원 / 명) -> 원 단위로 바꾸려면 * 1조 / 명\n",
    "# 여기서는 조 원 / 명 단위로 계산\n",
    "per_capita_gdp = gdp_float / population_int\n",
    "\n",
    "print(\"문자열 GDP:\", gdp_str, type(gdp_str))\n",
    "print(\"실수 GDP:\", gdp_float, type(gdp_float))\n",
    "print(\"문자열 인구:\", population_str, type(population_str))\n",
    "print(\"정수 인구:\", population_int, type(population_int))\n",
    "print(\"1인당 GDP (조 원/명):\", per_capita_gdp)\n",
    "\n",
    "# 원 단위로 1인당 GDP 출력 (약 4255만원)\n",
    "per_capita_gdp_krw = (gdp_float * 1000000000000) / population_int\n",
    "print(f\"1인당 GDP (원): {per_capita_gdp_krw:.0f} 원\") # 소수점 아래 버리고 출력"
   ]
  },
  {
   "cell_type": "markdown",
   "metadata": {},
   "source": [
    "**예제 2: 숫자를 문자열로 변환하여 문장 만들기**\n",
    "\n",
    "숫자를 설명하는 글자와 함께 출력하고 싶을 때, `str()` 함수로 숫자를 문자열로 바꿔서 `+` 연산자로 연결할 수 있습니다. (하지만 f-string을 쓰는 것이 더 편리합니다!)\n"
   ]
  },
  {
   "cell_type": "code",
   "execution_count": 74,
   "metadata": {},
   "outputs": [
    {
     "name": "stdout",
     "output_type": "stream",
     "text": [
      "2024년 한국 실업률은 3.1%로 집계되었습니다.\n",
      "2024년 한국 실업률은 3.1%로 집계되었습니다.\n"
     ]
    }
   ],
   "source": [
    "unemployment_rate = 3.1 # 실업률 (퍼센트)\n",
    "\n",
    "# 에러 발생: print(\"실업률: \" + unemployment_rate + \"%\")\n",
    "\n",
    "# str() 사용하여 형 변환 후 연결\n",
    "report_sentence = \"2024년 한국 실업률은 \" + str(unemployment_rate) + \"%로 집계되었습니다.\"\n",
    "print(report_sentence)\n",
    "\n",
    "# f-string 사용 (권장)\n",
    "report_sentence_f = f\"2024년 한국 실업률은 {unemployment_rate}%로 집계되었습니다.\"\n",
    "print(report_sentence_f)"
   ]
  },
  {
   "cell_type": "markdown",
   "metadata": {},
   "source": [
    "**예제 3: 실수(float)를 정수(int)로 변환 (소수점 버림 확인)**\n"
   ]
  },
  {
   "cell_type": "code",
   "execution_count": 75,
   "metadata": {},
   "outputs": [
    {
     "name": "stdout",
     "output_type": "stream",
     "text": [
      "평균 점수 (실수): 85.7\n",
      "최종 부여 점수 (정수): 85\n"
     ]
    }
   ],
   "source": [
    "average_score = 85.7\n",
    "final_score = int(average_score) # 소수점 이하 버림\n",
    "\n",
    "print(\"평균 점수 (실수):\", average_score)\n",
    "print(\"최종 부여 점수 (정수):\", final_score)"
   ]
  },
  {
   "cell_type": "markdown",
   "metadata": {},
   "source": [
    "## 5. 파이썬의 힘 맛보기: 데이터 시각화 미리보기{#sec-visualization-preview}\n",
    "자, 지금까지 배운 변수, 자료형, 형 변환만으로는 파이썬 공부가 좀 건조하게 느껴질 수도 있을 것 같습니다. '그래서 이걸 배워서 뭘 할 수 있다는 거지?' 하는 생각이 들 수도 있죠.\n",
    "\n",
    "여기서 잠깐! 우리가 이렇게 변수에 저장하고 처리하는 데이터들이 파이썬을 통해 얼마나 의미 있는 시각 정보로 변환될 수 있는지 미리 살짝 맛보는 시간을 가져보겠습니다. 우리가 앞에서 변수에 저장했던 여러 국가들의 GDP 데이터를 간단한 막대 그래프로 비교해 보는 거죠.\n",
    "\n",
    "아래 나오는 코드는 지금 당장 완벽하게 이해하지 않아도 괜찮습니다. 특히 import, plt, figure, bar, title, show 같은 부분들은 나중에 우리가 '데이터 시각화'를 배울 때 자세히 다룰 내용이에요. 지금은 \"아하! 우리가 변수에 넣은 데이터(국가 이름, GDP 값)가 이런 멋진 그래프를 만드는 재료가 되는구나!\" 그리고 \"파이썬 코드가 데이터를 이렇게 보기 좋은 그림으로 바꿔줄 수 있구나!\" 라는 가능성을 느껴보는 것이 중요합니다."
   ]
  },
  {
   "cell_type": "code",
   "execution_count": 76,
   "metadata": {},
   "outputs": [
    {
     "data": {
      "image/png": "[encoded data removed]",
      "text/plain": [
       "<Figure size 1000x600 with 1 Axes>"
      ]
     },
     "metadata": {},
     "output_type": "display_data"
    }
   ],
   "source": [
    "# --- 데이터 시각화 맛보기 ---\n",
    "# (아직 이 코드를 완벽히 이해할 필요는 없어요! 어떤 결과가 나오는지 보세요)\n",
    "\n",
    "# 데이터를 시각화하는 강력한 도구 'Matplotlib'을 불러옵니다.\n",
    "import matplotlib.pyplot as plt\n",
    "import platform\n",
    "\n",
    "# 한글 폰트 설정 (Colab 및 OS 환경에 맞게) - 중요!\n",
    "# Colab 환경에서는 아래 코드 실행으로 나눔폰트 설치가 필요할 수 있습니다.\n",
    "# !sudo apt-get update -qq\n",
    "# !sudo apt-get install -y fonts-nanum* -qq\n",
    "\n",
    "# 설치 후 진행 (런타임 다시 시작 필요할 수 있음)\n",
    "try:\n",
    "    if platform.system() == 'Linux': # Colab 포함 리눅스 환경\n",
    "        plt.rc('font', family='NanumBarunGothic')\n",
    "    elif platform.system() == 'Windows': # 윈도우 환경\n",
    "        plt.rc('font', family='Malgun Gothic')\n",
    "    elif platform.system() == 'Darwin': # macOS 환경\n",
    "        plt.rc('font', family='AppleGothic')\n",
    "except FileNotFoundError:\n",
    "    print(\"한글 폰트를 찾을 수 없습니다. 영문으로 표시되거나 글자가 깨질 수 있습니다.\")\n",
    "    # 필요한 경우, 사용 가능한 다른 폰트 이름을 직접 지정해주세요.\n",
    "\n",
    "plt.rcParams['axes.unicode_minus'] = False # 마이너스 기호 깨짐 방지\n",
    "\n",
    "# --- 비교할 데이터 준비 ---\n",
    "# (앞에서 배운 변수를 사용하거나, 여기서 직접 값을 지정할 수 있습니다)\n",
    "# 예시: 몇 개 국가의 2024년 추정 GDP (단위: 조 USD)\n",
    "countries = ['대한민국', '미국', '중국', '일본', '독일']\n",
    "# 앞에서 정의한 변수를 활용할 수도 있지만, 여기서는 간단히 값을 직접 입력\n",
    "# gdp_values_usd = [gdp_kr_trillion_krw / 1.35, gdp_us_trillion_usd, ...] # 단위 변환 필요시 복잡\n",
    "gdp_values_usd = [1.8, 27.0, 19.0, 4.5, 4.2] # 추정치 (단위: 조 USD)\n",
    "\n",
    "# --- 막대 그래프 그리기 ---\n",
    "plt.figure(figsize=(10, 6)) # 그래프 크기 지정 (선택 사항)\n",
    "plt.bar(countries, gdp_values_usd, color=['skyblue', 'red', 'orange', 'green', 'purple']) # 막대 그래프 생성\n",
    "\n",
    "# 그래프 제목 및 축 레이블 추가 (한글!)\n",
    "plt.title('주요 국가별 2024년 추정 GDP 비교', fontsize=15)\n",
    "plt.ylabel('GDP (단위: 조 USD)', fontsize=12)\n",
    "plt.xlabel('국가', fontsize=12)\n",
    "plt.xticks(fontsize=11) # x축 국가 이름 폰트 크기 조절 (선택 사항)\n",
    "plt.yticks(fontsize=11) # y축 값 폰트 크기 조절 (선택 사항)\n",
    "\n",
    "# 그래프 보여주기\n",
    "plt.show()"
   ]
  },
  {
   "cell_type": "markdown",
   "metadata": {},
   "source": [
    "어떤가요? 위 코드를 실행하면 주요 국가들의 GDP를 한눈에 비교할 수 있는 막대 그래프가 나타날 겁니다. 어떤 국가의 경제 규모가 가장 크고, 어떤 국가들이 비슷한 수준인지 숫자만 볼 때보다 훨씬 빠르고 명확하게 파악할 수 있죠?\n",
    "\n",
    "이것이 바로 데이터 시각화의 힘입니다! 우리가 지금 배우는 변수에 데이터를 담는 방법, 그리고 앞으로 배울 데이터 처리 및 시각화 라이브러리(Matplotlib 등)를 활용하면, 이렇게 복잡한 데이터를 이해하기 쉬운 그림으로 바꾸고 그 안에서 의미 있는 인사이트(통찰) 를 얻을 수 있습니다.\n",
    "\n",
    "예를 들어, 여러 국가의 시간에 따른 1인당 GDP 변화를 선 그래프로 그려 추세를 비교하거나, 소득과 소비의 관계를 점으로 찍어(산점도) 그 패턴을 분석하는 등 무궁무진한 분석이 가능해집니다.\n",
    "\n",
    "오늘 배운 변수와 자료형이 바로 이런 멋진 분석과 시각화의 가장 기본적인 출발점이라는 것을 기억하면서, 즐겁게 다음 단계로 나아가 봅시다!"
   ]
  },
  {
   "cell_type": "markdown",
   "metadata": {},
   "source": [
    "\n",
    "\n",
    "## 6. 경제/회계 응용: 변수를 활용한 이익 계산\n",
    "\n",
    "이제 오늘 배운 내용을 모두 활용해서, 지난주에 했던 이익 계산 예제를 훨씬 개선해 봅시다. 모든 값을 변수로 먼저 정의하고, 계산은 변수 이름을 사용하여 수행합니다.\n",
    "\n",
    "**시나리오 복습:**\n",
    "\n",
    "* 티셔츠 가격(Price) = 15,000원\n",
    "* 판매량(Quantity) = 50장\n",
    "* 고정 비용(Fixed Cost) = 500,000원\n",
    "* 단위당 가변 비용(Variable Cost per Unit) = 5,000원\n",
    "\n",
    "**변수를 사용한 계산:**\n"
   ]
  },
  {
   "cell_type": "code",
   "execution_count": 77,
   "metadata": {},
   "outputs": [
    {
     "name": "stdout",
     "output_type": "stream",
     "text": [
      "--- 티셔츠 판매 분석 (50개 판매 기준) ---\n",
      "총수입 (TR): 750000 원\n",
      "총비용 (TC): 750000 원 (고정:500000, 가변:250000)\n",
      "이익 (Profit): 0 원\n",
      "이익률 (Profit Margin): 0.00%\n",
      "\n",
      "--- 가격 변경 시뮬레이션 (가격을 16000원으로 변경) ---\n",
      "변경된 총수입 (TR): 800000 원\n",
      "변경된 이익 (Profit): 50000 원\n",
      "변경된 이익률 (Profit Margin): 6.25%\n"
     ]
    }
   ],
   "source": [
    "# --- 입력 정보 (변수로 정의) ---\n",
    "price = 15000\n",
    "quantity = 50\n",
    "fixed_cost = 500000\n",
    "variable_cost_per_unit = 5000\n",
    "\n",
    "# --- 계산 과정 (변수 사용) ---\n",
    "# 1. 총수입 (TR)\n",
    "total_revenue = price * quantity\n",
    "\n",
    "# 2. 총가변비용 (TVC)\n",
    "total_variable_cost = variable_cost_per_unit * quantity\n",
    "\n",
    "# 3. 총비용 (TC)\n",
    "total_cost = fixed_cost + total_variable_cost\n",
    "\n",
    "# 4. 이익 (Profit)\n",
    "profit = total_revenue - total_cost\n",
    "\n",
    "# 5. 이익률 (Profit Margin) 계산 (추가)\n",
    "# 0으로 나누는 경우를 방지하기 위해 총수입이 0보다 클 때만 계산 (간단한 예방)\n",
    "if total_revenue > 0:\n",
    "    profit_margin = (profit / total_revenue) * 100\n",
    "else:\n",
    "    profit_margin = 0 # 매출이 없으면 이익률도 0\n",
    "\n",
    "# --- 결과 출력 ---\n",
    "print(f\"--- 티셔츠 판매 분석 ({quantity}개 판매 기준) ---\")\n",
    "print(f\"총수입 (TR): {total_revenue} 원\")\n",
    "print(f\"총비용 (TC): {total_cost} 원 (고정:{fixed_cost}, 가변:{total_variable_cost})\")\n",
    "print(f\"이익 (Profit): {profit} 원\")\n",
    "print(f\"이익률 (Profit Margin): {profit_margin:.2f}%\") # 소수점 2자리까지 출력\n",
    "\n",
    "# --- 만약 가격이 16000원으로 변경된다면? ---\n",
    "print(\"\\n--- 가격 변경 시뮬레이션 (가격을 16000원으로 변경) ---\")\n",
    "price = 16000 # 이 변수 값만 수정!\n",
    "\n",
    "# 계산 다시 수행 (동일한 코드 재사용 가능)\n",
    "total_revenue = price * quantity\n",
    "total_variable_cost = variable_cost_per_unit * quantity\n",
    "total_cost = fixed_cost + total_variable_cost\n",
    "profit = total_revenue - total_cost\n",
    "if total_revenue > 0:\n",
    "    profit_margin = (profit / total_revenue) * 100\n",
    "else:\n",
    "    profit_margin = 0\n",
    "\n",
    "# 변경된 결과 출력\n",
    "print(f\"변경된 총수입 (TR): {total_revenue} 원\")\n",
    "print(f\"변경된 이익 (Profit): {profit} 원\")\n",
    "print(f\"변경된 이익률 (Profit Margin): {profit_margin:.2f}%\")"
   ]
  },
  {
   "cell_type": "markdown",
   "metadata": {},
   "source": [
    "변수를 사용하니 어떤 점이 좋아졌나요? 가격(`price`) 값만 바꾸고 계산 부분을 다시 실행하면 모든 결과가 업데이트됩니다. 훨씬 효율적이죠!\n",
    "\n",
    "## 7. 마무리 및 다음 시간 예고\n",
    "\n",
    "오늘은 데이터를 다루는 데 있어 가장 기본이 되는 **변수**와 **자료형**, 그리고 **형 변환**과 **사용자 입력(`input()`)** 에 대해 배웠습니다. 변수를 이용해 어떻게 데이터를 효율적으로 관리하고 코드의 가독성과 유연성을 높이는지, 그리고 데이터의 종류에 맞게 형 변환을 하는 것이 왜 중요한지, 특히 `input()` 함수를 사용할 때의 주의점까지 확인했습니다. 다양한 경제/회계 관련 예시를 통해 개념을 익혔기를 바랍니다.\n",
    "\n",
    "**다음 시간에는:**\n",
    "\n",
    "이제 우리는 데이터를 변수에 담고 기본적인 처리를 할 수 있게 되었습니다. 다음 주에는 프로그램의 흐름을 제어하는 첫 번째 방법인 **조건문(`if`, `elif`, `else`)** 을 배웁니다. 조건문을 사용하면 특정 조건이 참인지 거짓인지에 따라 프로그램이 다른 동작을 하도록 만들 수 있습니다. 예를 들어, \"GDP 성장률이 3% 이상이면 '고성장'이라고 출력하고, 아니면 '저성장'이라고 출력\"하는 식의 코드를 작성할 수 있게 될 것입니다. 이를 통해 우리의 파이썬 코드가 훨씬 더 지능적으로 동작하게 될 테니 기대해주세요!\n",
    "\n",
    "---\n",
    "\n",
    "## 두 번째 주차 과제\n",
    "\n",
    "오늘 배운 변수, 자료형, 형 변환, `input()` 함수를 복습하기 위해 다음 과제를 Colab에서 새 노트(`Week2_Assignment.ipynb` 등)에 풀어보세요.\n",
    "\n",
    "1.  **국가별 1인당 GDP 계산기:**\n",
    "    * 사용자로부터 국가 이름을 입력받아 `country_name` 변수에 저장하세요.\n",
    "    * 같은 사용자로부터 해당 국가의 총 GDP(예: 조 달러 단위)를 입력받아 `total_gdp_str` 에 저장 후, **실수(float)** 로 변환하여 `total_gdp` 변수에 저장하세요.\n",
    "    * 같은 사용자로부터 해당 국가의 인구 수(예: 만 명 단위)를 입력받아 `population_str` 에 저장 후, **정수(int)** 로 변환하여 `population` 변수에 저장하세요. (단위 주의: 입력받은 값에 10000을 곱해야 실제 인구수가 됩니다)\n",
    "    * 1인당 GDP(달러)를 계산하세요. (계산식: `(total_gdp * 1조) / (population * 1만)`) 또는 더 간단히 `(total_gdp * 1억) / population` (조/만 = 억)\n",
    "    * f-string을 이용하여 최종 결과를 \"\\[국가이름]의 1인당 GDP는 약 X 달러입니다.\" 형식으로 출력하세요 (X는 계산 결과, 소수점 없이 정수로 표현).\n",
    "2.  **재무 비율 계산 (가상):**\n",
    "    * 어떤 기업의 총 부채(Total Liabilities)가 `500억` 원이고, 총 자본(Total Equity)이 `1000억` 원이라고 가정합니다. 이 두 값을 각각 `total_liabilities`, `total_equity` 변수에 **정수**로 저장하세요 (단위: 원).\n",
    "    * 부채 비율(Debt-to-Equity Ratio)을 계산하세요. (계산식: 총 부채 / 총 자본)\n",
    "    * 계산된 부채 비율을 `debt_ratio` 변수에 저장하고, 이 값과 변수의 **자료형**을 함께 출력하세요.\n",
    "    * f-string을 이용하여 \"해당 기업의 부채 비율은 Y 입니다.\" 형식으로 출력하세요 (Y는 계산 결과).\n",
    "\n",
    "---"
   ]
  },
  {
   "cell_type": "code",
   "execution_count": null,
   "metadata": {},
   "outputs": [],
   "source": []
  }
 ],
 "metadata": {
  "kernelspec": {
   "display_name": ".venv",
   "language": "python",
   "name": "python3"
  },
  "language_info": {
   "name": "python",
   "version": "3.12.0"
  }
 },
 "nbformat": 4,
 "nbformat_minor": 5
}
